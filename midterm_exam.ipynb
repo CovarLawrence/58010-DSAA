{
  "nbformat": 4,
  "nbformat_minor": 0,
  "metadata": {
    "colab": {
      "provenance": [],
      "authorship_tag": "ABX9TyNTZae+pQ3xYRfUK+1ztSOv",
      "include_colab_link": true
    },
    "kernelspec": {
      "name": "python3",
      "display_name": "Python 3"
    },
    "language_info": {
      "name": "python"
    }
  },
  "cells": [
    {
      "cell_type": "markdown",
      "metadata": {
        "id": "view-in-github",
        "colab_type": "text"
      },
      "source": [
        "<a href=\"https://colab.research.google.com/github/CovarLawrence/58010-DSAA/blob/main/midterm_exam.ipynb\" target=\"_parent\"><img src=\"https://colab.research.google.com/assets/colab-badge.svg\" alt=\"Open In Colab\"/></a>"
      ]
    },
    {
      "cell_type": "code",
      "execution_count": null,
      "metadata": {
        "id": "9YKBcxXj6DN8"
      },
      "outputs": [],
      "source": [
        "A -> B -> E -> N -> O -> P -> L\n",
        "\n",
        "\n",
        "A -> B -> F -> G -> I -> J -> K\n",
        "\n",
        "A -> [A, B, C, D,]\n",
        "B -> [F, G, I, J, K,]\n",
        "C -> [M, L, D, K, I,]\n",
        "D -> [L, M, N, O, P,]"
      ]
    },
    {
      "cell_type": "code",
      "source": [],
      "metadata": {
        "id": "iWTacS2o7Nd7"
      },
      "execution_count": null,
      "outputs": []
    }
  ]
}