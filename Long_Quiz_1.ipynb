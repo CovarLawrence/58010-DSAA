{
  "nbformat": 4,
  "nbformat_minor": 0,
  "metadata": {
    "colab": {
      "provenance": [],
      "authorship_tag": "ABX9TyOnsPwkvEWUYy0JxJcHhQ1w",
      "include_colab_link": true
    },
    "kernelspec": {
      "name": "python3",
      "display_name": "Python 3"
    },
    "language_info": {
      "name": "python"
    }
  },
  "cells": [
    {
      "cell_type": "markdown",
      "metadata": {
        "id": "view-in-github",
        "colab_type": "text"
      },
      "source": [
        "<a href=\"https://colab.research.google.com/github/CovarLawrence/58010-DSAA/blob/main/Long_Quiz_1.ipynb\" target=\"_parent\"><img src=\"https://colab.research.google.com/assets/colab-badge.svg\" alt=\"Open In Colab\"/></a>"
      ]
    },
    {
      "cell_type": "code",
      "execution_count": 9,
      "metadata": {
        "colab": {
          "base_uri": "https://localhost:8080/"
        },
        "id": "B3sxzs1XRPYx",
        "outputId": "b0c6da7a-15c1-4647-e8c2-7becb0b9ec95"
      },
      "outputs": [
        {
          "output_type": "stream",
          "name": "stdout",
          "text": [
            "Enter your full name: JOHN MARIUS LAWRENCE COVAR\n",
            "Characters in reverse order:\n",
            "R\n",
            "A\n",
            "V\n",
            "O\n",
            "C\n",
            " \n",
            "E\n",
            "C\n",
            "N\n",
            "E\n",
            "R\n",
            "W\n",
            "A\n",
            "L\n",
            " \n",
            "S\n",
            "U\n",
            "I\n",
            "R\n",
            "A\n",
            "M\n",
            " \n",
            "N\n",
            "H\n",
            "O\n",
            "J\n"
          ]
        }
      ],
      "source": [
        "full_name = input(\"Enter your full name: \")\n",
        "\n",
        "characters = []\n",
        "\n",
        "for char in full_name:\n",
        "    characters.append(char)\n",
        "\n",
        "print(\"Characters in reverse order:\")\n",
        "for char in reversed(characters):\n",
        "    print(char)"
      ]
    },
    {
      "cell_type": "code",
      "source": [
        "lower = 0\n",
        "upper = 10\n",
        "\n",
        "print(\"Prime numbers between\", lower, \"and\", upper, \"are:\")\n",
        "\n",
        "for num in range(lower, upper + 1):\n",
        "    if num > 1:\n",
        "        for i in range(2, num):\n",
        "            if (num % i) == 0:\n",
        "                break\n",
        "        else:\n",
        "            print(num)"
      ],
      "metadata": {
        "colab": {
          "base_uri": "https://localhost:8080/"
        },
        "id": "whE0Gtc6TGqH",
        "outputId": "f7eaeded-245b-499a-af24-20f04da8e7e6"
      },
      "execution_count": 6,
      "outputs": [
        {
          "output_type": "stream",
          "name": "stdout",
          "text": [
            "Prime numbers between 0 and 10 are:\n",
            "2\n",
            "3\n",
            "5\n",
            "7\n"
          ]
        }
      ]
    },
    {
      "cell_type": "code",
      "source": [
        "lower = 0\n",
        "upper = 10\n",
        "\n",
        "print(\"Numbers between\", lower, \"and\", upper, \"with classification:\")\n",
        "\n",
        "for num in range(lower, upper + 1):\n",
        "    if num > 1:\n",
        "        is_prime = True\n",
        "        for i in range(2, num):\n",
        "            if (num % i) == 0:\n",
        "                is_prime = False\n",
        "                break\n",
        "        if is_prime:\n",
        "            print(f\"{num} is a prime number.\")\n",
        "        else:\n",
        "            print(f\"{num} is a composite number.\")\n"
      ],
      "metadata": {
        "colab": {
          "base_uri": "https://localhost:8080/"
        },
        "id": "oei8prdJXCC4",
        "outputId": "3e2c116d-b35c-4545-a9fd-ca3b864c7d03"
      },
      "execution_count": 8,
      "outputs": [
        {
          "output_type": "stream",
          "name": "stdout",
          "text": [
            "Numbers between 0 and 10 with classification:\n",
            "2 is a prime number.\n",
            "3 is a prime number.\n",
            "4 is a composite number.\n",
            "5 is a prime number.\n",
            "6 is a composite number.\n",
            "7 is a prime number.\n",
            "8 is a composite number.\n",
            "9 is a composite number.\n",
            "10 is a composite number.\n"
          ]
        }
      ]
    }
  ]
}