{
  "nbformat": 4,
  "nbformat_minor": 0,
  "metadata": {
    "colab": {
      "provenance": [],
      "authorship_tag": "ABX9TyPS9Kt6V4u9MNPpSSJkeb/9",
      "include_colab_link": true
    },
    "kernelspec": {
      "name": "python3",
      "display_name": "Python 3"
    },
    "language_info": {
      "name": "python"
    }
  },
  "cells": [
    {
      "cell_type": "markdown",
      "metadata": {
        "id": "view-in-github",
        "colab_type": "text"
      },
      "source": [
        "<a href=\"https://colab.research.google.com/github/CovarLawrence/58010-DSAA/blob/main/Practice_Problem.ipynb\" target=\"_parent\"><img src=\"https://colab.research.google.com/assets/colab-badge.svg\" alt=\"Open In Colab\"/></a>"
      ]
    },
    {
      "cell_type": "code",
      "execution_count": 2,
      "metadata": {
        "colab": {
          "base_uri": "https://localhost:8080/"
        },
        "id": "AIVgYYZIzyyY",
        "outputId": "ba47cfb0-d5e7-463d-8cec-abd4d9e80918"
      },
      "outputs": [
        {
          "output_type": "stream",
          "name": "stdout",
          "text": [
            "63\n",
            "invalid integer, not given.\n"
          ]
        }
      ],
      "source": [
        "x = int(input())\n",
        "if x==26 or x==98 or x==62:\n",
        "  print(\"even number\")\n",
        "elif x==49 or x==87 or x==75:\n",
        "  print(\"odd number\")\n",
        "else:\n",
        "  print(\"invalid integer, not given.\")"
      ]
    }
  ]
}