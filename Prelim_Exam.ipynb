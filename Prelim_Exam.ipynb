{
  "nbformat": 4,
  "nbformat_minor": 0,
  "metadata": {
    "colab": {
      "provenance": [],
      "authorship_tag": "ABX9TyOZnCY7Ku6MQTSvc/Mmq77R",
      "include_colab_link": true
    },
    "kernelspec": {
      "name": "python3",
      "display_name": "Python 3"
    },
    "language_info": {
      "name": "python"
    }
  },
  "cells": [
    {
      "cell_type": "markdown",
      "metadata": {
        "id": "view-in-github",
        "colab_type": "text"
      },
      "source": [
        "<a href=\"https://colab.research.google.com/github/CovarLawrence/58010-DSAA/blob/main/Prelim_Exam.ipynb\" target=\"_parent\"><img src=\"https://colab.research.google.com/assets/colab-badge.svg\" alt=\"Open In Colab\"/></a>"
      ]
    },
    {
      "cell_type": "code",
      "execution_count": 11,
      "metadata": {
        "colab": {
          "base_uri": "https://localhost:8080/"
        },
        "id": "-oPojv1lb0Tf",
        "outputId": "6f77b05d-7f75-4d18-c205-b4df378e3121"
      },
      "outputs": [
        {
          "output_type": "stream",
          "name": "stdout",
          "text": [
            "Total Score: 397\n"
          ]
        }
      ],
      "source": [
        "import array\n",
        "\n",
        "scores = [26, 49, 98, 87, 62, 75]\n",
        "\n",
        "total_score = sum(scores)\n",
        "\n",
        "print(\"Total Score:\", total_score)\n"
      ]
    },
    {
      "cell_type": "code",
      "source": [
        "import array\n",
        "\n",
        "scores = [26, 49, 98, 87, 62, 75]\n",
        "\n",
        "sorted_scores = sorted(scores)\n",
        "\n",
        "print(\"Sorted Scores (Ascending):\", sorted_scores)\n"
      ],
      "metadata": {
        "colab": {
          "base_uri": "https://localhost:8080/"
        },
        "id": "kPcE3Fnzge6U",
        "outputId": "36a8ca3c-a337-47fc-aa0c-5d67b6ec1a23"
      },
      "execution_count": 12,
      "outputs": [
        {
          "output_type": "stream",
          "name": "stdout",
          "text": [
            "Sorted Scores (Ascending): [26, 49, 62, 75, 87, 98]\n"
          ]
        }
      ]
    }
  ]
}