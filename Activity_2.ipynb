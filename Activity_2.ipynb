{
  "nbformat": 4,
  "nbformat_minor": 0,
  "metadata": {
    "colab": {
      "provenance": []
    },
    "kernelspec": {
      "name": "python3",
      "display_name": "Python 3"
    },
    "language_info": {
      "name": "python"
    }
  },
  "cells": [
    {
      "cell_type": "code",
      "source": [
        "lower = 0\n",
        "upper = 20\n",
        "\n",
        "print(\"Prime numbers between\", lower, \"and\", upper, \"are:\")\n",
        "\n",
        "for num in range(lower, upper + 1):\n",
        "    if num > 1:\n",
        "        for i in range(2, num):\n",
        "            if (num % i) == 0:\n",
        "                break\n",
        "        else:\n",
        "            print(num)\n"
      ],
      "metadata": {
        "colab": {
          "base_uri": "https://localhost:8080/"
        },
        "id": "EFEt_8dn7fwM",
        "outputId": "c760c974-79f1-4a63-d6d9-baa2c504d7b8"
      },
      "execution_count": 2,
      "outputs": [
        {
          "output_type": "stream",
          "name": "stdout",
          "text": [
            "Prime numbers between 0 and 20 are:\n",
            "2\n",
            "3\n",
            "5\n",
            "7\n",
            "11\n",
            "13\n",
            "17\n",
            "19\n"
          ]
        }
      ]
    },
    {
      "cell_type": "code",
      "source": [
        "lower = 0\n",
        "upper = 20\n",
        "\n",
        "print(\"Prime numbers between\", lower, \"and\", upper, \"are:\")\n",
        "\n",
        "# Initialize the head and tail pointers\n",
        "head = None\n",
        "tail = None\n",
        "\n",
        "for num in range(lower, upper + 1):\n",
        "    if num > 1:\n",
        "        is_prime = True\n",
        "        for i in range(2, num):\n",
        "            if (num % i) == 0:\n",
        "                is_prime = False\n",
        "                break\n",
        "        if is_prime:\n",
        "            if tail is None:\n",
        "                # If the tail is None, this is the first prime number\n",
        "                head = num\n",
        "                tail = num\n",
        "            else:\n",
        "                # Append the prime number to the end of the list\n",
        "                tail = num\n",
        "                print(num)\n",
        "\n",
        "# Check if there were any prime numbers found\n",
        "if head is None:\n",
        "    print(\"No prime numbers found in the range.\")\n",
        "else:\n",
        "    print(\"The head of prime number is:\", head)\n",
        "    print(\"The tail of  prime number is:\", tail)\n"
      ],
      "metadata": {
        "colab": {
          "base_uri": "https://localhost:8080/"
        },
        "id": "SeTVewrn-LBl",
        "outputId": "d96a22d3-fcac-4893-cc48-14f4715099da"
      },
      "execution_count": 3,
      "outputs": [
        {
          "output_type": "stream",
          "name": "stdout",
          "text": [
            "Prime numbers between 0 and 20 are:\n",
            "3\n",
            "5\n",
            "7\n",
            "11\n",
            "13\n",
            "17\n",
            "19\n",
            "The first prime number is: 2\n",
            "The last prime number is: 19\n"
          ]
        }
      ]
    }
  ]
}